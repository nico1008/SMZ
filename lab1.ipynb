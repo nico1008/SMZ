{
 "cells": [
  {
   "cell_type": "code",
   "execution_count": 31,
   "metadata": {},
   "outputs": [],
   "source": [
    "import torch \n",
    "import numpy as np\n",
    "import ipytest\n",
    "ipytest.autoconfig()"
   ]
  },
  {
   "cell_type": "code",
   "execution_count": 32,
   "metadata": {},
   "outputs": [],
   "source": [
    "def Conv2D(in_channels, out_channels, kernel_size, stride=1, padding=0, dilation=1, groups=1, bias=True, padding_mode='zeros'):\n",
    "    def generate_bias():\n",
    "        return torch.rand(out_channels) if bias else torch.zeros(out_channels)\n",
    "\n",
    "    def apply_padding(matrix):\n",
    "        if padding_mode == 'zeros':\n",
    "            pad = torch.nn.ZeroPad2d(padding)\n",
    "        elif padding_mode == 'reflect':\n",
    "            pad = torch.nn.ReflectionPad2d(padding)\n",
    "        elif padding_mode == 'replicate':\n",
    "            pad = torch.nn.ReplicationPad2d(2)\n",
    "        elif padding_mode == 'circular':\n",
    "            pad = torch.nn.CircularPad2d(padding)\n",
    "\n",
    "        return pad(matrix)\n",
    "\n",
    "    def generate_filter():\n",
    "        if isinstance(kernel_size, tuple):\n",
    "            return torch.rand(out_channels, in_channels // groups, *kernel_size)\n",
    "        elif isinstance(kernel_size, int):\n",
    "            return torch.rand(out_channels, in_channels // groups, kernel_size, kernel_size)\n",
    "\n",
    "    def perform_convolution(matrix, filter):\n",
    "        result = []\n",
    "        for l in range(out_channels):\n",
    "            feature_map = np.array([])\n",
    "\n",
    "            for i in range(0, matrix.shape[1] - ((filter.shape[2] - 1) * dilation + 1) + 1, stride):\n",
    "                for j in range(0, matrix.shape[2] - ((filter.shape[3] - 1) * dilation + 1) + 1, stride):\n",
    "                    total = calculate_convolution_sum(matrix, filter, l, i, j)\n",
    "                    feature_map = np.append(feature_map, float(total + bias_values[l]))\n",
    "\n",
    "            result.append(feature_map.reshape(\n",
    "                (matrix.shape[1] - ((filter.shape[2] - 1) * dilation + 1)) // stride + 1,\n",
    "                (matrix.shape[2] - ((filter.shape[3] - 1) * dilation + 1)) // stride + 1\n",
    "            ))\n",
    "\n",
    "        return np.array(result), torch.tensor(np.array(filter)), torch.tensor(np.array(bias_values))\n",
    "\n",
    "    def calculate_convolution_sum(matrix, filter, l, i, j):\n",
    "        total = 0\n",
    "        for c in range(in_channels // groups):\n",
    "            val = select_input_slice(matrix, l, c, i, j)\n",
    "            local_sum = (val * filter[l][c]).sum()\n",
    "            total += local_sum\n",
    "        return total\n",
    "\n",
    "    def select_input_slice(matrix, l, c, i, j):\n",
    "        if groups > 1:\n",
    "            return matrix[l * (in_channels // groups) + c][i:i + (filter.shape[2] - 1) * dilation + 1:dilation,\n",
    "                                                          j:j + (filter.shape[3] - 1) * dilation + 1:dilation]\n",
    "        else:\n",
    "            return matrix[c][i:i + (filter.shape[2] - 1) * dilation + 1:dilation,\n",
    "                             j:j + (filter.shape[3] - 1) * dilation + 1:dilation]\n",
    "\n",
    "    bias_values = generate_bias()\n",
    "    filter = generate_filter()\n",
    "\n",
    "    def convolution(matrix):\n",
    "        matrix = apply_padding(matrix)\n",
    "        result, filter_result, bias_result = perform_convolution(matrix, filter)\n",
    "        return result, filter_result, bias_result\n",
    "\n",
    "    return convolution"
   ]
  },
  {
   "cell_type": "code",
   "execution_count": 33,
   "metadata": {},
   "outputs": [],
   "source": [
    "def create_random_tensor(shape):\n",
    "    return torch.rand(shape)\n",
    "\n",
    "def compare_convolutions(custom_conv, torch_conv, input_tensor):\n",
    "    result, kernel, bias_val = custom_conv(input_tensor)\n",
    "    torch_conv.weight.data = torch.tensor(kernel)\n",
    "    torch_conv.bias.data = torch.tensor(bias_val)\n",
    "\n",
    "    custom_result = str(np.round(result, 2))\n",
    "    torch_result = str(np.round(np.array(torch_conv(input_tensor).data), 2))\n",
    "\n",
    "    assert torch_result == custom_result"
   ]
  },
  {
   "cell_type": "code",
   "execution_count": 34,
   "metadata": {},
   "outputs": [],
   "source": [
    "def test_1():\n",
    "    tensor = create_random_tensor((10, 28, 28))\n",
    "    conv = Conv2D(               in_channels=10, out_channels=2, kernel_size=3, stride=1, padding=0, dilation=1, groups=2, bias=True, padding_mode='zeros')\n",
    "    torch_conv = torch.nn.Conv2d(in_channels=10, out_channels=2, kernel_size=3, stride=1, padding=0, dilation=1, groups=2, bias=True, padding_mode='zeros')\n",
    "    compare_convolutions(conv, torch_conv, tensor)\n",
    "\n",
    "def test_2():\n",
    "    tensor = create_random_tensor((3, 100, 100))\n",
    "    conv = Conv2D(               in_channels=3, out_channels=1, kernel_size=4, stride=2, padding=0, dilation=2, groups=1, bias=True, padding_mode='zeros')\n",
    "    torch_conv = torch.nn.Conv2d(in_channels=3, out_channels=1, kernel_size=4, stride=2, padding=0, dilation=2, groups=1, bias=True, padding_mode='zeros')\n",
    "    compare_convolutions(conv, torch_conv, tensor)\n",
    "\n",
    "def test_3():\n",
    "    tensor = create_random_tensor((4, 4, 4))\n",
    "    conv = Conv2D(               in_channels=4, out_channels=4, kernel_size=1, stride=1, padding=0, dilation=1, groups=4, bias=True, padding_mode='zeros')\n",
    "    torch_conv = torch.nn.Conv2d(in_channels=4, out_channels=4, kernel_size=1, stride=1, padding=0, dilation=1, groups=4, bias=True, padding_mode='zeros')\n",
    "    compare_convolutions(conv, torch_conv, tensor)\n",
    "    \n",
    "def test_4():\n",
    "    tensor = create_random_tensor((3, 128, 128))\n",
    "    conv = Conv2D(               in_channels=3, out_channels=1, kernel_size=1, stride=1, padding=0, dilation=1, groups=1, bias=True, padding_mode='zeros')\n",
    "    torch_conv = torch.nn.Conv2d(in_channels=3, out_channels=1, kernel_size=1, stride=1, padding=0, dilation=1, groups=1, bias=True, padding_mode='zeros')\n",
    "    compare_convolutions(conv, torch_conv, tensor)"
   ]
  },
  {
   "cell_type": "code",
   "execution_count": 35,
   "metadata": {},
   "outputs": [
    {
     "name": "stdout",
     "output_type": "stream",
     "text": [
      "\u001b[32m.\u001b[0m\u001b[32m.\u001b[0m\u001b[32m.\u001b[0m\u001b[32m.\u001b[0m\u001b[33m                                                                                         [100%]\u001b[0m\n",
      "\u001b[33m======================================== warnings summary =========================================\u001b[0m\n",
      "t_ba46173c862a48ccbf13ec9840edf6e3.py::test_1\n",
      "t_ba46173c862a48ccbf13ec9840edf6e3.py::test_2\n",
      "t_ba46173c862a48ccbf13ec9840edf6e3.py::test_3\n",
      "t_ba46173c862a48ccbf13ec9840edf6e3.py::test_4\n",
      "  C:\\Users\\Никола\\AppData\\Local\\Temp\\ipykernel_14888\\69101569.py:6: UserWarning: To copy construct from a tensor, it is recommended to use sourceTensor.clone().detach() or sourceTensor.clone().detach().requires_grad_(True), rather than torch.tensor(sourceTensor).\n",
      "    torch_conv.weight.data = torch.tensor(kernel)\n",
      "\n",
      "t_ba46173c862a48ccbf13ec9840edf6e3.py::test_1\n",
      "t_ba46173c862a48ccbf13ec9840edf6e3.py::test_2\n",
      "t_ba46173c862a48ccbf13ec9840edf6e3.py::test_3\n",
      "t_ba46173c862a48ccbf13ec9840edf6e3.py::test_4\n",
      "  C:\\Users\\Никола\\AppData\\Local\\Temp\\ipykernel_14888\\69101569.py:7: UserWarning: To copy construct from a tensor, it is recommended to use sourceTensor.clone().detach() or sourceTensor.clone().detach().requires_grad_(True), rather than torch.tensor(sourceTensor).\n",
      "    torch_conv.bias.data = torch.tensor(bias_val)\n",
      "\n",
      "-- Docs: https://docs.pytest.org/en/stable/how-to/capture-warnings.html\n",
      "\u001b[33m\u001b[32m4 passed\u001b[0m, \u001b[33m\u001b[1m8 warnings\u001b[0m\u001b[33m in 2.91s\u001b[0m\u001b[0m\n"
     ]
    },
    {
     "data": {
      "text/plain": [
       "<ExitCode.OK: 0>"
      ]
     },
     "execution_count": 35,
     "metadata": {},
     "output_type": "execute_result"
    }
   ],
   "source": [
    "ipytest.run()"
   ]
  }
 ],
 "metadata": {
  "kernelspec": {
   "display_name": "base",
   "language": "python",
   "name": "python3"
  },
  "language_info": {
   "codemirror_mode": {
    "name": "ipython",
    "version": 3
   },
   "file_extension": ".py",
   "mimetype": "text/x-python",
   "name": "python",
   "nbconvert_exporter": "python",
   "pygments_lexer": "ipython3",
   "version": "3.9.13"
  }
 },
 "nbformat": 4,
 "nbformat_minor": 2
}
