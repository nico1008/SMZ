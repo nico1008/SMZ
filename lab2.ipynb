{
 "cells": [
  {
   "cell_type": "code",
   "execution_count": 21,
   "metadata": {},
   "outputs": [],
   "source": [
    "import torch \n",
    "import numpy as np\n",
    "import ipytest\n",
    "ipytest.autoconfig()"
   ]
  },
  {
   "cell_type": "code",
   "execution_count": 22,
   "metadata": {},
   "outputs": [],
   "source": [
    "def Conv3D(in_channels, out_channels, kernel_size, stride=1, padding=0, dilation=1, groups=1, bias=True, padding_mode='zeros'):\n",
    "  def convolution(matrix):\n",
    "\n",
    "    #groups exeption\n",
    "    if (in_channels%groups != 0) or (out_channels%groups!=0):\n",
    "      raise Exception('in_channels and out_channels must be divisible by groups')\n",
    "\n",
    "    # Генерация смещения (bias)\n",
    "    if bias:\n",
    "      bias_values = torch.rand(out_channels)\n",
    "    else:\n",
    "      bias_values = torch.zeros(out_channels)\n",
    "\n",
    "    # Режим заполнения (padding_mode)\n",
    "    if padding_mode == 'zeros':\n",
    "      pad = torch.nn.ZeroPad2d(padding)\n",
    "      matrix = pad(matrix)\n",
    "    elif padding_mode == 'reflect':\n",
    "      pad = torch.nn.ReflectionPad2d(padding)\n",
    "      matrix = pad(matrix)\n",
    "    elif padding_mode == 'replicate':\n",
    "      pad = torch.nn.ReplicationPad2d(2)\n",
    "      matrix = pad(matrix)\n",
    "    elif padding_mode == 'circular':\n",
    "      pad = torch.nn.CircularPad2d(padding)\n",
    "      matrix = pad(matrix)\n",
    "\n",
    "    #генерация ядра\n",
    "    if type(kernel_size) == tuple:\n",
    "      filter = torch.rand(out_channels, in_channels//groups, kernel_size[0], kernel_size[1], kernel_size[2])\n",
    "    if type(kernel_size) == int:\n",
    "      filter = torch.rand(out_channels, in_channels//groups, kernel_size, kernel_size, kernel_size)\n",
    "\n",
    "\n",
    "    convolution = []\n",
    "    for l in range(out_channels):\n",
    "\n",
    "      feature_map = np.array([])  # Инициализация пустой карты признаков\n",
    "\n",
    "      # Цикл по ширине входной карты признаков с учетом размера фильтра, дилатации и шага\n",
    "      # Определяет начальную позицию фильтра вдоль ширины входной карты признаков\n",
    "      # Диапазон гарантирует, что фильтр остается в пределах размеров входной карты признаков\n",
    "      for k in range (0, matrix.shape[1]-((filter.shape[2]-1)*dilation+1)+1, stride):\n",
    "      \n",
    "        # Цикл по высоте входной карты признаков с учетом размера фильтра, дилатации и шага\n",
    "        # Определяет начальную позицию фильтра вдоль высоты входной карты признаков\n",
    "        # Диапазон гарантирует, что фильтр остается в пределах размеров входной карты признаков\n",
    "        for i in range (0, matrix.shape[2]-((filter.shape[3]-1)*dilation+1)+1, stride):\n",
    "\n",
    "          # Цикл по глубине входной карты признаков с учетом размера фильтра, дилатации и шага\n",
    "          # Определяет начальную позицию фильтра вдоль глубины входной карты признаков\n",
    "          # Диапазон гарантирует, что фильтр остается в пределах размеров входной карты признаков\n",
    "          for j in range (0, matrix.shape[3]-((filter.shape[4]-1)*dilation+1)+1, stride):\n",
    "            \n",
    "            # Инициализация переменной для хранения суммы сверток для текущей позиции\n",
    "            total = 0\n",
    "            for c in range (in_channels//groups): \n",
    "              # Выбор соответствующего среза входной матрицы для операции свертки\n",
    "              if groups>1:\n",
    "                val = matrix[l*(in_channels//groups)+c][k:k+(filter.shape[2]-1)*dilation+1:dilation, i:i+(filter.shape[3]-1)*dilation+1:dilation, j:j+(filter.shape[4]-1)*dilation+1:dilation]\n",
    "              else:\n",
    "                # Извлекаем подматрицу из входной матрицы matrix для одного канала (c)\n",
    "                # с использованием трехмерного среза по ширине, высоте и глубине\n",
    "                # Срез происходит вдоль каждого измерения с шагом dilation\n",
    "                # Начальные индексы для каждого измерения определяются переменными k, i, j\n",
    "                # и учитывают размеры фильтра и дилатацию\n",
    "                val = matrix[c][k:k+(filter.shape[2]-1)*dilation+1:dilation, i:i+(filter.shape[3]-1)*dilation+1:dilation, j:j+(filter.shape[4]-1)*dilation+1:dilation]\n",
    "              \n",
    "              # Подсчет суммы элементов после умножения на веса фильтра\n",
    "              local_sum = (val*filter[l][c]).sum()\n",
    "              total = total + local_sum\n",
    "\n",
    "            feature_map = np.append(feature_map, float(total + bias_values[l])) \n",
    "\n",
    "      # Добавляем результат свертки для каждого канала и позиции фильтра в массив convolution\n",
    "      convolution.append(feature_map.reshape(\n",
    "        (matrix.shape[1]-((filter.shape[2]-1)*dilation+1))//stride+1,   #по ширине\n",
    "        (matrix.shape[2]-((filter.shape[3]-1)*dilation+1))//stride+1,   #по высоте\n",
    "        (matrix.shape[3]-((filter.shape[4]-1)*dilation+1))//stride+1))  #по глубине\n",
    "\n",
    "    return np.array(convolution), torch.tensor(np.array(filter)), torch.tensor(np.array(bias_values))\n",
    "\n",
    "  return convolution"
   ]
  },
  {
   "cell_type": "code",
   "execution_count": 23,
   "metadata": {},
   "outputs": [],
   "source": [
    "def create_random_tensor(shape):\n",
    "    return torch.rand(shape)\n",
    "\n",
    "def compare_convolutions(custom_conv, torch_conv, input_tensor):\n",
    "    result, kernel, bias_val = custom_conv(input_tensor)\n",
    "    torch_conv.weight.data = torch.tensor(kernel)\n",
    "    torch_conv.bias.data = torch.tensor(bias_val)\n",
    "\n",
    "    custom_result = str(np.round(result, 2))\n",
    "    torch_result = str(np.round(np.array(torch_conv(input_tensor).data), 2))\n",
    "\n",
    "    assert torch_result == custom_result"
   ]
  },
  {
   "cell_type": "code",
   "execution_count": 24,
   "metadata": {},
   "outputs": [],
   "source": [
    "def test_1():\n",
    "    tensor = create_random_tensor((10, 28, 28, 28))\n",
    "    conv = Conv3D(               in_channels=10, out_channels=2, kernel_size=3, stride=1, padding=0, dilation=1, groups=2, bias=True, padding_mode='zeros')\n",
    "    torch_conv = torch.nn.Conv3d(in_channels=10, out_channels=2, kernel_size=3, stride=1, padding=0, dilation=1, groups=2, bias=True, padding_mode='zeros')\n",
    "    compare_convolutions(conv, torch_conv, tensor)\n",
    "\n",
    "def test_2():\n",
    "    tensor = create_random_tensor((3, 12, 12, 10))\n",
    "    conv = Conv3D(               in_channels=3, out_channels=1, kernel_size=4, stride=2, padding=0, dilation=2, groups=1, bias=True, padding_mode='zeros')\n",
    "    torch_conv = torch.nn.Conv3d(in_channels=3, out_channels=1, kernel_size=4, stride=2, padding=0, dilation=2, groups=1, bias=True, padding_mode='zeros')\n",
    "    compare_convolutions(conv, torch_conv, tensor)\n",
    "\n",
    "def test_3():\n",
    "    tensor = create_random_tensor((4, 4, 4, 4))\n",
    "    conv = Conv3D(               in_channels=4, out_channels=4, kernel_size=1, stride=1, padding=0, dilation=1, groups=4, bias=True, padding_mode='zeros')\n",
    "    torch_conv = torch.nn.Conv3d(in_channels=4, out_channels=4, kernel_size=1, stride=1, padding=0, dilation=1, groups=4, bias=True, padding_mode='zeros')\n",
    "    compare_convolutions(conv, torch_conv, tensor)\n",
    "    \n",
    "def test_4():\n",
    "    tensor = create_random_tensor((3, 32, 32, 32))\n",
    "    conv = Conv3D(               in_channels=3, out_channels=1, kernel_size=1, stride=1, padding=0, dilation=1, groups=1, bias=True, padding_mode='zeros')\n",
    "    torch_conv = torch.nn.Conv3d(in_channels=3, out_channels=1, kernel_size=1, stride=1, padding=0, dilation=1, groups=1, bias=True, padding_mode='zeros')\n",
    "    compare_convolutions(conv, torch_conv, tensor)"
   ]
  },
  {
   "cell_type": "code",
   "execution_count": 25,
   "metadata": {},
   "outputs": [
    {
     "name": "stdout",
     "output_type": "stream",
     "text": [
      "\u001b[32m.\u001b[0m\u001b[32m.\u001b[0m\u001b[32m.\u001b[0m\u001b[32m.\u001b[0m\u001b[33m                                                                                         [100%]\u001b[0m\n",
      "\u001b[33m======================================== warnings summary =========================================\u001b[0m\n",
      "t_b2fd461f424a460ea3d4d79997e1b9f4.py::test_1\n",
      "t_b2fd461f424a460ea3d4d79997e1b9f4.py::test_2\n",
      "t_b2fd461f424a460ea3d4d79997e1b9f4.py::test_3\n",
      "t_b2fd461f424a460ea3d4d79997e1b9f4.py::test_4\n",
      "  C:\\Users\\Никола\\AppData\\Local\\Temp\\ipykernel_29120\\69101569.py:6: UserWarning: To copy construct from a tensor, it is recommended to use sourceTensor.clone().detach() or sourceTensor.clone().detach().requires_grad_(True), rather than torch.tensor(sourceTensor).\n",
      "    torch_conv.weight.data = torch.tensor(kernel)\n",
      "\n",
      "t_b2fd461f424a460ea3d4d79997e1b9f4.py::test_1\n",
      "t_b2fd461f424a460ea3d4d79997e1b9f4.py::test_2\n",
      "t_b2fd461f424a460ea3d4d79997e1b9f4.py::test_3\n",
      "t_b2fd461f424a460ea3d4d79997e1b9f4.py::test_4\n",
      "  C:\\Users\\Никола\\AppData\\Local\\Temp\\ipykernel_29120\\69101569.py:7: UserWarning: To copy construct from a tensor, it is recommended to use sourceTensor.clone().detach() or sourceTensor.clone().detach().requires_grad_(True), rather than torch.tensor(sourceTensor).\n",
      "    torch_conv.bias.data = torch.tensor(bias_val)\n",
      "\n",
      "-- Docs: https://docs.pytest.org/en/stable/how-to/capture-warnings.html\n",
      "\u001b[33m\u001b[32m4 passed\u001b[0m, \u001b[33m\u001b[1m8 warnings\u001b[0m\u001b[33m in 11.46s\u001b[0m\u001b[0m\n"
     ]
    },
    {
     "data": {
      "text/plain": [
       "<ExitCode.OK: 0>"
      ]
     },
     "execution_count": 25,
     "metadata": {},
     "output_type": "execute_result"
    }
   ],
   "source": [
    "ipytest.run()"
   ]
  }
 ],
 "metadata": {
  "kernelspec": {
   "display_name": "base",
   "language": "python",
   "name": "python3"
  },
  "language_info": {
   "codemirror_mode": {
    "name": "ipython",
    "version": 3
   },
   "file_extension": ".py",
   "mimetype": "text/x-python",
   "name": "python",
   "nbconvert_exporter": "python",
   "pygments_lexer": "ipython3",
   "version": "3.9.13"
  }
 },
 "nbformat": 4,
 "nbformat_minor": 2
}
